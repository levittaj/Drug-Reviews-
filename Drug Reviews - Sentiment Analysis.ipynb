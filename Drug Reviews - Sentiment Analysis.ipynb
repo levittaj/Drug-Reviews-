{
 "cells": [
  {
   "cell_type": "markdown",
   "metadata": {},
   "source": [
    "<h1><center> Drug Reviews - Sentiment Analysis </center></h1>"
   ]
  },
  {
   "cell_type": "markdown",
   "metadata": {},
   "source": [
    "As we saw in the EDA, we have a bimodal distribution of the ratings. This is common in review data as customers (in this case patients) are more likely to write reviews when they have either a very positive, or a very negative experience. What can we learn by looking at the sentiment? "
   ]
  },
  {
   "cell_type": "code",
   "execution_count": 1,
   "metadata": {},
   "outputs": [],
   "source": [
    "# Import packages\n",
    "import pandas as pd\n",
    "import numpy as np\n",
    "import seaborn as sns\n",
    "import matplotlib.pyplot as plt\n",
    "from wordcloud import WordCloud, STOPWORDS\n",
    "\n",
    "\n",
    "import warnings\n",
    "warnings.filterwarnings('ignore')\n",
    "\n",
    "# Regex library to clean data \n",
    "import re, string, gc  \n",
    "\n",
    "# pretty printing for better legibility\n",
    "import pprint\n",
    "\n",
    "# Natural Language Tool Kit \n",
    "import nltk  \n",
    "from nltk import word_tokenize\n",
    "from nltk.stem import WordNetLemmatizer \n",
    "from nltk.corpus import stopwords\n",
    "from nltk.stem.snowball import SnowballStemmer\n",
    "\n",
    "# Vader Sentiment Analysis Tool\n",
    "from nltk.sentiment.vader import SentimentIntensityAnalyzer\n",
    "\n",
    "# Web Scrapping Clearner\n",
    "from bs4 import BeautifulSoup\n",
    "\n",
    "# Progress bar\n",
    "from tqdm import tqdm, tqdm_notebook\n",
    "# Instantiate\n",
    "tqdm.pandas(tqdm_notebook)"
   ]
  },
  {
   "cell_type": "code",
   "execution_count": 2,
   "metadata": {},
   "outputs": [],
   "source": [
    "from sklearn.feature_extraction.text import CountVectorizer,TfidfVectorizer\n",
    "from sklearn.decomposition import TruncatedSVD\n",
    "from sklearn.metrics import log_loss, confusion_matrix, classification_report, roc_curve,auc, accuracy_score, recall_score\n",
    "from sklearn.cluster import KMeans\n",
    "from sklearn.pipeline import Pipeline\n",
    "from sklearn.model_selection import cross_val_score\n",
    "from sklearn.linear_model import LogisticRegression\n",
    "from sklearn.ensemble import RandomForestClassifier\n",
    "\n",
    "\n",
    "from sklearn.svm import SVC\n",
    "from sklearn import svm\n",
    "from sklearn import preprocessing\n",
    "from sklearn.preprocessing import StandardScaler\n",
    "from sklearn.decomposition import PCA\n",
    "\n",
    "\n",
    "from sklearn.model_selection import GridSearchCV\n",
    "from sklearn.model_selection import train_test_split\n",
    "from sklearn.naive_bayes import MultinomialNB\n",
    "from sklearn.model_selection import cross_val_score\n",
    "from sklearn.linear_model import LogisticRegression\n",
    "from sklearn.ensemble import RandomForestClassifier"
   ]
  },
  {
   "cell_type": "code",
   "execution_count": 3,
   "metadata": {},
   "outputs": [],
   "source": [
    "# Load in the CSV file that was created at the end of the EDA notebook\n",
    "bigdata = pd.read_csv('bigdata_eda.csv', index_col = 0)"
   ]
  },
  {
   "cell_type": "code",
   "execution_count": 4,
   "metadata": {},
   "outputs": [],
   "source": [
    "# USING VADER SENTIMENT TO PREDICT THE RATING "
   ]
  },
  {
   "cell_type": "code",
   "execution_count": 5,
   "metadata": {},
   "outputs": [],
   "source": [
    "analyzer = SentimentIntensityAnalyzer()\n",
    "\n",
    "sentiments = []\n",
    "\n",
    "#Note that vader's lexicon is designed to remove stopwords, punctuation, numbers, accents, etc. Let's see!\n",
    "for i in bigdata.review:\n",
    "    sentiments.append(analyzer.polarity_scores(i).get('compound'))\n",
    "    \n",
    "sentiments = np.array(sentiments)"
   ]
  },
  {
   "cell_type": "code",
   "execution_count": 6,
   "metadata": {},
   "outputs": [
    {
     "data": {
      "text/html": [
       "<div>\n",
       "<style scoped>\n",
       "    .dataframe tbody tr th:only-of-type {\n",
       "        vertical-align: middle;\n",
       "    }\n",
       "\n",
       "    .dataframe tbody tr th {\n",
       "        vertical-align: top;\n",
       "    }\n",
       "\n",
       "    .dataframe thead th {\n",
       "        text-align: right;\n",
       "    }\n",
       "</style>\n",
       "<table border=\"1\" class=\"dataframe\">\n",
       "  <thead>\n",
       "    <tr style=\"text-align: right;\">\n",
       "      <th></th>\n",
       "      <th>drugName</th>\n",
       "      <th>condition</th>\n",
       "      <th>review</th>\n",
       "      <th>rating</th>\n",
       "      <th>date</th>\n",
       "      <th>usefulCount</th>\n",
       "      <th>day</th>\n",
       "      <th>month</th>\n",
       "      <th>year</th>\n",
       "      <th>pop_w_cond</th>\n",
       "      <th>total_users</th>\n",
       "      <th>vader_sentiment_score</th>\n",
       "    </tr>\n",
       "  </thead>\n",
       "  <tbody>\n",
       "    <tr>\n",
       "      <th>0</th>\n",
       "      <td>Sertraline</td>\n",
       "      <td>Depression</td>\n",
       "      <td>\"I remember reading people&amp;#039;s opinions, on...</td>\n",
       "      <td>10</td>\n",
       "      <td>2008-07-31</td>\n",
       "      <td>1291</td>\n",
       "      <td>31</td>\n",
       "      <td>7</td>\n",
       "      <td>2008</td>\n",
       "      <td>7112</td>\n",
       "      <td>1296</td>\n",
       "      <td>0.9772</td>\n",
       "    </tr>\n",
       "    <tr>\n",
       "      <th>1</th>\n",
       "      <td>Mirena</td>\n",
       "      <td>Birth Control</td>\n",
       "      <td>\"I have had my IUD for over a year now and I t...</td>\n",
       "      <td>10</td>\n",
       "      <td>2009-04-01</td>\n",
       "      <td>1247</td>\n",
       "      <td>1</td>\n",
       "      <td>4</td>\n",
       "      <td>2009</td>\n",
       "      <td>19525</td>\n",
       "      <td>830</td>\n",
       "      <td>0.7739</td>\n",
       "    </tr>\n",
       "    <tr>\n",
       "      <th>2</th>\n",
       "      <td>Zoloft</td>\n",
       "      <td>Depression</td>\n",
       "      <td>\"I&amp;#039;ve been on Zoloft 50mg for over two ye...</td>\n",
       "      <td>9</td>\n",
       "      <td>2008-08-05</td>\n",
       "      <td>949</td>\n",
       "      <td>5</td>\n",
       "      <td>8</td>\n",
       "      <td>2008</td>\n",
       "      <td>7112</td>\n",
       "      <td>563</td>\n",
       "      <td>-0.6815</td>\n",
       "    </tr>\n",
       "    <tr>\n",
       "      <th>3</th>\n",
       "      <td>Adipex-P</td>\n",
       "      <td>Weight Loss</td>\n",
       "      <td>\"I have used this pill off and on for the past...</td>\n",
       "      <td>10</td>\n",
       "      <td>2008-10-19</td>\n",
       "      <td>796</td>\n",
       "      <td>19</td>\n",
       "      <td>10</td>\n",
       "      <td>2008</td>\n",
       "      <td>3111</td>\n",
       "      <td>237</td>\n",
       "      <td>0.7921</td>\n",
       "    </tr>\n",
       "    <tr>\n",
       "      <th>4</th>\n",
       "      <td>Citalopram</td>\n",
       "      <td>Depression</td>\n",
       "      <td>\"I responded after one week. The side effects ...</td>\n",
       "      <td>8</td>\n",
       "      <td>2008-03-25</td>\n",
       "      <td>771</td>\n",
       "      <td>25</td>\n",
       "      <td>3</td>\n",
       "      <td>2008</td>\n",
       "      <td>7112</td>\n",
       "      <td>1003</td>\n",
       "      <td>-0.7227</td>\n",
       "    </tr>\n",
       "  </tbody>\n",
       "</table>\n",
       "</div>"
      ],
      "text/plain": [
       "     drugName      condition  \\\n",
       "0  Sertraline     Depression   \n",
       "1      Mirena  Birth Control   \n",
       "2      Zoloft     Depression   \n",
       "3    Adipex-P    Weight Loss   \n",
       "4  Citalopram     Depression   \n",
       "\n",
       "                                              review  rating        date  \\\n",
       "0  \"I remember reading people&#039;s opinions, on...      10  2008-07-31   \n",
       "1  \"I have had my IUD for over a year now and I t...      10  2009-04-01   \n",
       "2  \"I&#039;ve been on Zoloft 50mg for over two ye...       9  2008-08-05   \n",
       "3  \"I have used this pill off and on for the past...      10  2008-10-19   \n",
       "4  \"I responded after one week. The side effects ...       8  2008-03-25   \n",
       "\n",
       "   usefulCount  day  month  year  pop_w_cond  total_users  \\\n",
       "0         1291   31      7  2008        7112         1296   \n",
       "1         1247    1      4  2009       19525          830   \n",
       "2          949    5      8  2008        7112          563   \n",
       "3          796   19     10  2008        3111          237   \n",
       "4          771   25      3  2008        7112         1003   \n",
       "\n",
       "   vader_sentiment_score  \n",
       "0                 0.9772  \n",
       "1                 0.7739  \n",
       "2                -0.6815  \n",
       "3                 0.7921  \n",
       "4                -0.7227  "
      ]
     },
     "execution_count": 6,
     "metadata": {},
     "output_type": "execute_result"
    }
   ],
   "source": [
    "bigdata['vader_sentiment_score'] = sentiments\n",
    "bigdata = bigdata.sort_values(by='usefulCount', ascending=False).reset_index(drop=True)\n",
    "bigdata.head()"
   ]
  },
  {
   "cell_type": "code",
   "execution_count": 7,
   "metadata": {},
   "outputs": [],
   "source": [
    "# Note that despite the high ratings that are appearing in the head with the top usefulCount, we still have \n",
    "# some negative sentiment scores."
   ]
  },
  {
   "cell_type": "code",
   "execution_count": 8,
   "metadata": {},
   "outputs": [
    {
     "data": {
      "image/png": "[encoded data removed]",
      "text/plain": [
       "<Figure size 432x288 with 1 Axes>"
      ]
     },
     "metadata": {
      "needs_background": "light"
     },
     "output_type": "display_data"
    }
   ],
   "source": [
    "bigdata.vader_sentiment_score.hist(color='navy', bins=30)\n",
    "plt.title('Compound Sentiment Score Distribution')\n",
    "plt.xlabel('Sentiment Scores')\n",
    "plt.ylabel('Count');"
   ]
  },
  {
   "cell_type": "code",
   "execution_count": 9,
   "metadata": {},
   "outputs": [],
   "source": [
    "# It is is interesting to note that despite having way more positive ratings, in our data set, it appears like\n",
    "# we have more negative sentiments."
   ]
  },
  {
   "cell_type": "code",
   "execution_count": 10,
   "metadata": {},
   "outputs": [
    {
     "data": {
      "image/png": "[encoded data removed]",
      "text/plain": [
       "<Figure size 432x288 with 1 Axes>"
      ]
     },
     "metadata": {
      "needs_background": "light"
     },
     "output_type": "display_data"
    }
   ],
   "source": [
    "sns.boxplot(x = bigdata.rating, y = bigdata.vader_sentiment_score)\n",
    "plt.title('Rating vs Sentiment', fontweight='bold', size=20)\n",
    "plt.xlabel('Rating', size=15)\n",
    "plt.ylabel('Sentiment', size=15)\n",
    "plt.show()"
   ]
  },
  {
   "cell_type": "code",
   "execution_count": 11,
   "metadata": {},
   "outputs": [],
   "source": [
    "# For each rating, we still found both positive and negative sentiments. This sentiment analysis is more geared \n",
    "# toward finding negative snetiments, which makes sense based on the histogram. \n",
    "\n",
    "# We can see that the median for the lower sentiments is stronger for negative ratings (means between -.5 and -.75). \n",
    "# However the median of the most positive ratings (9 and 10) which are between 0 and .25. \n",
    "\n",
    "# Also the variance (the size of each box) increases as we become more positive in rating. Notice that the sentiment\n",
    "# for 1 is never greater thna 0. However, for 10, the variance is from -.5 to +.75."
   ]
  },
  {
   "cell_type": "code",
   "execution_count": 12,
   "metadata": {},
   "outputs": [
    {
     "name": "stdout",
     "output_type": "stream",
     "text": [
      "57121 6120 64686\n"
     ]
    }
   ],
   "source": [
    "positive_num = len(bigdata[bigdata['vader_sentiment_score'] >=0.05])\n",
    "neutral_num = len(bigdata[(bigdata['vader_sentiment_score'] >-0.05) & (bigdata['vader_sentiment_score']<0.05)])\n",
    "negative_num = len(bigdata[bigdata['vader_sentiment_score']<=-0.05])\n",
    "\n",
    "print(positive_num, neutral_num, negative_num)"
   ]
  },
  {
   "cell_type": "code",
   "execution_count": 13,
   "metadata": {},
   "outputs": [],
   "source": [
    "bigdata['vader_sentiment_label']= bigdata['vader_sentiment_score'].apply(lambda x:str('positive') if x>=0.05 else str('negative') if x<=-0.05 else str('neutral'))"
   ]
  },
  {
   "cell_type": "code",
   "execution_count": 14,
   "metadata": {},
   "outputs": [
    {
     "data": {
      "text/html": [
       "<div>\n",
       "<style scoped>\n",
       "    .dataframe tbody tr th:only-of-type {\n",
       "        vertical-align: middle;\n",
       "    }\n",
       "\n",
       "    .dataframe tbody tr th {\n",
       "        vertical-align: top;\n",
       "    }\n",
       "\n",
       "    .dataframe thead th {\n",
       "        text-align: right;\n",
       "    }\n",
       "</style>\n",
       "<table border=\"1\" class=\"dataframe\">\n",
       "  <thead>\n",
       "    <tr style=\"text-align: right;\">\n",
       "      <th></th>\n",
       "      <th>drugName</th>\n",
       "      <th>condition</th>\n",
       "      <th>review</th>\n",
       "      <th>rating</th>\n",
       "      <th>date</th>\n",
       "      <th>usefulCount</th>\n",
       "      <th>day</th>\n",
       "      <th>month</th>\n",
       "      <th>year</th>\n",
       "      <th>pop_w_cond</th>\n",
       "      <th>total_users</th>\n",
       "      <th>vader_sentiment_score</th>\n",
       "      <th>vader_sentiment_label</th>\n",
       "      <th>pos-neg-rating</th>\n",
       "    </tr>\n",
       "  </thead>\n",
       "  <tbody>\n",
       "    <tr>\n",
       "      <th>0</th>\n",
       "      <td>Sertraline</td>\n",
       "      <td>Depression</td>\n",
       "      <td>\"I remember reading people&amp;#039;s opinions, on...</td>\n",
       "      <td>10</td>\n",
       "      <td>2008-07-31</td>\n",
       "      <td>1291</td>\n",
       "      <td>31</td>\n",
       "      <td>7</td>\n",
       "      <td>2008</td>\n",
       "      <td>7112</td>\n",
       "      <td>1296</td>\n",
       "      <td>0.9772</td>\n",
       "      <td>positive</td>\n",
       "      <td>positive</td>\n",
       "    </tr>\n",
       "    <tr>\n",
       "      <th>1</th>\n",
       "      <td>Mirena</td>\n",
       "      <td>Birth Control</td>\n",
       "      <td>\"I have had my IUD for over a year now and I t...</td>\n",
       "      <td>10</td>\n",
       "      <td>2009-04-01</td>\n",
       "      <td>1247</td>\n",
       "      <td>1</td>\n",
       "      <td>4</td>\n",
       "      <td>2009</td>\n",
       "      <td>19525</td>\n",
       "      <td>830</td>\n",
       "      <td>0.7739</td>\n",
       "      <td>positive</td>\n",
       "      <td>positive</td>\n",
       "    </tr>\n",
       "    <tr>\n",
       "      <th>2</th>\n",
       "      <td>Zoloft</td>\n",
       "      <td>Depression</td>\n",
       "      <td>\"I&amp;#039;ve been on Zoloft 50mg for over two ye...</td>\n",
       "      <td>9</td>\n",
       "      <td>2008-08-05</td>\n",
       "      <td>949</td>\n",
       "      <td>5</td>\n",
       "      <td>8</td>\n",
       "      <td>2008</td>\n",
       "      <td>7112</td>\n",
       "      <td>563</td>\n",
       "      <td>-0.6815</td>\n",
       "      <td>negative</td>\n",
       "      <td>positive</td>\n",
       "    </tr>\n",
       "    <tr>\n",
       "      <th>3</th>\n",
       "      <td>Adipex-P</td>\n",
       "      <td>Weight Loss</td>\n",
       "      <td>\"I have used this pill off and on for the past...</td>\n",
       "      <td>10</td>\n",
       "      <td>2008-10-19</td>\n",
       "      <td>796</td>\n",
       "      <td>19</td>\n",
       "      <td>10</td>\n",
       "      <td>2008</td>\n",
       "      <td>3111</td>\n",
       "      <td>237</td>\n",
       "      <td>0.7921</td>\n",
       "      <td>positive</td>\n",
       "      <td>positive</td>\n",
       "    </tr>\n",
       "    <tr>\n",
       "      <th>4</th>\n",
       "      <td>Citalopram</td>\n",
       "      <td>Depression</td>\n",
       "      <td>\"I responded after one week. The side effects ...</td>\n",
       "      <td>8</td>\n",
       "      <td>2008-03-25</td>\n",
       "      <td>771</td>\n",
       "      <td>25</td>\n",
       "      <td>3</td>\n",
       "      <td>2008</td>\n",
       "      <td>7112</td>\n",
       "      <td>1003</td>\n",
       "      <td>-0.7227</td>\n",
       "      <td>negative</td>\n",
       "      <td>negative</td>\n",
       "    </tr>\n",
       "  </tbody>\n",
       "</table>\n",
       "</div>"
      ],
      "text/plain": [
       "     drugName      condition  \\\n",
       "0  Sertraline     Depression   \n",
       "1      Mirena  Birth Control   \n",
       "2      Zoloft     Depression   \n",
       "3    Adipex-P    Weight Loss   \n",
       "4  Citalopram     Depression   \n",
       "\n",
       "                                              review  rating        date  \\\n",
       "0  \"I remember reading people&#039;s opinions, on...      10  2008-07-31   \n",
       "1  \"I have had my IUD for over a year now and I t...      10  2009-04-01   \n",
       "2  \"I&#039;ve been on Zoloft 50mg for over two ye...       9  2008-08-05   \n",
       "3  \"I have used this pill off and on for the past...      10  2008-10-19   \n",
       "4  \"I responded after one week. The side effects ...       8  2008-03-25   \n",
       "\n",
       "   usefulCount  day  month  year  pop_w_cond  total_users  \\\n",
       "0         1291   31      7  2008        7112         1296   \n",
       "1         1247    1      4  2009       19525          830   \n",
       "2          949    5      8  2008        7112          563   \n",
       "3          796   19     10  2008        3111          237   \n",
       "4          771   25      3  2008        7112         1003   \n",
       "\n",
       "   vader_sentiment_score vader_sentiment_label pos-neg-rating  \n",
       "0                 0.9772              positive       positive  \n",
       "1                 0.7739              positive       positive  \n",
       "2                -0.6815              negative       positive  \n",
       "3                 0.7921              positive       positive  \n",
       "4                -0.7227              negative       negative  "
      ]
     },
     "execution_count": 14,
     "metadata": {},
     "output_type": "execute_result"
    }
   ],
   "source": [
    "bigdata['pos-neg-rating'] = bigdata['rating'].apply(lambda x:str('positive') if x>=9 else str('negative'))\n",
    "bigdata.head()"
   ]
  },
  {
   "cell_type": "code",
   "execution_count": 15,
   "metadata": {},
   "outputs": [
    {
     "data": {
      "text/html": [
       "<div>\n",
       "<style scoped>\n",
       "    .dataframe tbody tr th:only-of-type {\n",
       "        vertical-align: middle;\n",
       "    }\n",
       "\n",
       "    .dataframe tbody tr th {\n",
       "        vertical-align: top;\n",
       "    }\n",
       "\n",
       "    .dataframe thead th {\n",
       "        text-align: right;\n",
       "    }\n",
       "</style>\n",
       "<table border=\"1\" class=\"dataframe\">\n",
       "  <thead>\n",
       "    <tr style=\"text-align: right;\">\n",
       "      <th></th>\n",
       "      <th>drugName</th>\n",
       "      <th>condition</th>\n",
       "      <th>review</th>\n",
       "      <th>rating</th>\n",
       "      <th>date</th>\n",
       "      <th>usefulCount</th>\n",
       "      <th>day</th>\n",
       "      <th>month</th>\n",
       "      <th>year</th>\n",
       "      <th>pop_w_cond</th>\n",
       "      <th>total_users</th>\n",
       "      <th>vader_sentiment_score</th>\n",
       "      <th>vader_sentiment_label</th>\n",
       "      <th>pos-neg-rating</th>\n",
       "      <th>pos-neg-bin</th>\n",
       "    </tr>\n",
       "  </thead>\n",
       "  <tbody>\n",
       "    <tr>\n",
       "      <th>0</th>\n",
       "      <td>Sertraline</td>\n",
       "      <td>Depression</td>\n",
       "      <td>\"I remember reading people&amp;#039;s opinions, on...</td>\n",
       "      <td>10</td>\n",
       "      <td>2008-07-31</td>\n",
       "      <td>1291</td>\n",
       "      <td>31</td>\n",
       "      <td>7</td>\n",
       "      <td>2008</td>\n",
       "      <td>7112</td>\n",
       "      <td>1296</td>\n",
       "      <td>0.9772</td>\n",
       "      <td>positive</td>\n",
       "      <td>positive</td>\n",
       "      <td>1</td>\n",
       "    </tr>\n",
       "    <tr>\n",
       "      <th>1</th>\n",
       "      <td>Mirena</td>\n",
       "      <td>Birth Control</td>\n",
       "      <td>\"I have had my IUD for over a year now and I t...</td>\n",
       "      <td>10</td>\n",
       "      <td>2009-04-01</td>\n",
       "      <td>1247</td>\n",
       "      <td>1</td>\n",
       "      <td>4</td>\n",
       "      <td>2009</td>\n",
       "      <td>19525</td>\n",
       "      <td>830</td>\n",
       "      <td>0.7739</td>\n",
       "      <td>positive</td>\n",
       "      <td>positive</td>\n",
       "      <td>1</td>\n",
       "    </tr>\n",
       "    <tr>\n",
       "      <th>2</th>\n",
       "      <td>Zoloft</td>\n",
       "      <td>Depression</td>\n",
       "      <td>\"I&amp;#039;ve been on Zoloft 50mg for over two ye...</td>\n",
       "      <td>9</td>\n",
       "      <td>2008-08-05</td>\n",
       "      <td>949</td>\n",
       "      <td>5</td>\n",
       "      <td>8</td>\n",
       "      <td>2008</td>\n",
       "      <td>7112</td>\n",
       "      <td>563</td>\n",
       "      <td>-0.6815</td>\n",
       "      <td>negative</td>\n",
       "      <td>positive</td>\n",
       "      <td>1</td>\n",
       "    </tr>\n",
       "    <tr>\n",
       "      <th>3</th>\n",
       "      <td>Adipex-P</td>\n",
       "      <td>Weight Loss</td>\n",
       "      <td>\"I have used this pill off and on for the past...</td>\n",
       "      <td>10</td>\n",
       "      <td>2008-10-19</td>\n",
       "      <td>796</td>\n",
       "      <td>19</td>\n",
       "      <td>10</td>\n",
       "      <td>2008</td>\n",
       "      <td>3111</td>\n",
       "      <td>237</td>\n",
       "      <td>0.7921</td>\n",
       "      <td>positive</td>\n",
       "      <td>positive</td>\n",
       "      <td>1</td>\n",
       "    </tr>\n",
       "    <tr>\n",
       "      <th>4</th>\n",
       "      <td>Citalopram</td>\n",
       "      <td>Depression</td>\n",
       "      <td>\"I responded after one week. The side effects ...</td>\n",
       "      <td>8</td>\n",
       "      <td>2008-03-25</td>\n",
       "      <td>771</td>\n",
       "      <td>25</td>\n",
       "      <td>3</td>\n",
       "      <td>2008</td>\n",
       "      <td>7112</td>\n",
       "      <td>1003</td>\n",
       "      <td>-0.7227</td>\n",
       "      <td>negative</td>\n",
       "      <td>negative</td>\n",
       "      <td>0</td>\n",
       "    </tr>\n",
       "  </tbody>\n",
       "</table>\n",
       "</div>"
      ],
      "text/plain": [
       "     drugName      condition  \\\n",
       "0  Sertraline     Depression   \n",
       "1      Mirena  Birth Control   \n",
       "2      Zoloft     Depression   \n",
       "3    Adipex-P    Weight Loss   \n",
       "4  Citalopram     Depression   \n",
       "\n",
       "                                              review  rating        date  \\\n",
       "0  \"I remember reading people&#039;s opinions, on...      10  2008-07-31   \n",
       "1  \"I have had my IUD for over a year now and I t...      10  2009-04-01   \n",
       "2  \"I&#039;ve been on Zoloft 50mg for over two ye...       9  2008-08-05   \n",
       "3  \"I have used this pill off and on for the past...      10  2008-10-19   \n",
       "4  \"I responded after one week. The side effects ...       8  2008-03-25   \n",
       "\n",
       "   usefulCount  day  month  year  pop_w_cond  total_users  \\\n",
       "0         1291   31      7  2008        7112         1296   \n",
       "1         1247    1      4  2009       19525          830   \n",
       "2          949    5      8  2008        7112          563   \n",
       "3          796   19     10  2008        3111          237   \n",
       "4          771   25      3  2008        7112         1003   \n",
       "\n",
       "   vader_sentiment_score vader_sentiment_label pos-neg-rating  pos-neg-bin  \n",
       "0                 0.9772              positive       positive            1  \n",
       "1                 0.7739              positive       positive            1  \n",
       "2                -0.6815              negative       positive            1  \n",
       "3                 0.7921              positive       positive            1  \n",
       "4                -0.7227              negative       negative            0  "
      ]
     },
     "execution_count": 15,
     "metadata": {},
     "output_type": "execute_result"
    }
   ],
   "source": [
    "bigdata['pos-neg-bin'] = bigdata['rating'].apply(lambda x:int('1') if x>=9 else int('0'))\n",
    "bigdata.head()"
   ]
  },
  {
   "cell_type": "code",
   "execution_count": 16,
   "metadata": {},
   "outputs": [
    {
     "data": {
      "text/plain": [
       "negative    65479\n",
       "positive    62448\n",
       "Name: pos-neg-rating, dtype: int64"
      ]
     },
     "execution_count": 16,
     "metadata": {},
     "output_type": "execute_result"
    }
   ],
   "source": [
    "bigdata['pos-neg-rating'].value_counts() \n",
    "# There are two equal sized classes. Based on a marketing technique called the netpromoter score I decided that\n",
    "# anything which is a 9 or 10 is positive. While 7 or 8 are often considered passive/neutral, I will call anything\n",
    "# below 9 as a negative as that is what we saw in the vader sentiment. "
   ]
  },
  {
   "cell_type": "code",
   "execution_count": 17,
   "metadata": {},
   "outputs": [
    {
     "data": {
      "image/png": "[encoded data removed]",
      "text/plain": [
       "<Figure size 864x720 with 2 Axes>"
      ]
     },
     "metadata": {
      "needs_background": "light"
     },
     "output_type": "display_data"
    }
   ],
   "source": [
    "corr = bigdata.corr()\n",
    "plt.figure(figsize=(12,10))\n",
    "sns.heatmap(corr, annot = True)\n",
    "plt.xticks(rotation = 90)\n",
    "plt.title(\"Heat Map for Drug Review Data\",  fontweight=\"bold\", size=25)\n",
    "plt.show();"
   ]
  },
  {
   "cell_type": "code",
   "execution_count": 18,
   "metadata": {},
   "outputs": [],
   "source": [
    "# I wanted to see what the relationship is for sentiment and rating. As shown in the heat map above, it has a\n",
    "# correlation coefficient of 0.32."
   ]
  },
  {
   "cell_type": "code",
   "execution_count": 19,
   "metadata": {},
   "outputs": [],
   "source": [
    "def standardize_text(df, text_field):\n",
    "    df[text_field] = df[text_field].str.replace(r\"http\\S+\", \"\")\n",
    "    df[text_field] = df[text_field].str.replace(r\"http\", \"\")\n",
    "    df[text_field] = df[text_field].str.replace(r\"(\\d)\", \"\")\n",
    "    df[text_field] = df[text_field].str.replace(r\"@\\S+\", \"\")\n",
    "    df[text_field] = df[text_field].str.replace(r\"[^A-Za-z0-9(),;!?@\\'\\`\\\"\\_\\n]\", \" \")\n",
    "    df[text_field] = df[text_field].str.replace(r\"@\", \"at\")\n",
    "    return df\n",
    "\n",
    "bigdata = standardize_text(bigdata, \"review\")"
   ]
  },
  {
   "cell_type": "code",
   "execution_count": 20,
   "metadata": {},
   "outputs": [
    {
     "data": {
      "text/html": [
       "<div>\n",
       "<style scoped>\n",
       "    .dataframe tbody tr th:only-of-type {\n",
       "        vertical-align: middle;\n",
       "    }\n",
       "\n",
       "    .dataframe tbody tr th {\n",
       "        vertical-align: top;\n",
       "    }\n",
       "\n",
       "    .dataframe thead th {\n",
       "        text-align: right;\n",
       "    }\n",
       "</style>\n",
       "<table border=\"1\" class=\"dataframe\">\n",
       "  <thead>\n",
       "    <tr style=\"text-align: right;\">\n",
       "      <th></th>\n",
       "      <th>drugName</th>\n",
       "      <th>condition</th>\n",
       "      <th>review</th>\n",
       "      <th>rating</th>\n",
       "      <th>date</th>\n",
       "      <th>usefulCount</th>\n",
       "      <th>day</th>\n",
       "      <th>month</th>\n",
       "      <th>year</th>\n",
       "      <th>pop_w_cond</th>\n",
       "      <th>total_users</th>\n",
       "      <th>vader_sentiment_score</th>\n",
       "      <th>vader_sentiment_label</th>\n",
       "      <th>pos-neg-rating</th>\n",
       "      <th>pos-neg-bin</th>\n",
       "    </tr>\n",
       "  </thead>\n",
       "  <tbody>\n",
       "    <tr>\n",
       "      <th>0</th>\n",
       "      <td>Sertraline</td>\n",
       "      <td>Depression</td>\n",
       "      <td>\"I remember reading people  ;s opinions, onlin...</td>\n",
       "      <td>10</td>\n",
       "      <td>2008-07-31</td>\n",
       "      <td>1291</td>\n",
       "      <td>31</td>\n",
       "      <td>7</td>\n",
       "      <td>2008</td>\n",
       "      <td>7112</td>\n",
       "      <td>1296</td>\n",
       "      <td>0.9772</td>\n",
       "      <td>positive</td>\n",
       "      <td>positive</td>\n",
       "      <td>1</td>\n",
       "    </tr>\n",
       "    <tr>\n",
       "      <th>1</th>\n",
       "      <td>Mirena</td>\n",
       "      <td>Birth Control</td>\n",
       "      <td>\"I have had my IUD for over a year now and I t...</td>\n",
       "      <td>10</td>\n",
       "      <td>2009-04-01</td>\n",
       "      <td>1247</td>\n",
       "      <td>1</td>\n",
       "      <td>4</td>\n",
       "      <td>2009</td>\n",
       "      <td>19525</td>\n",
       "      <td>830</td>\n",
       "      <td>0.7739</td>\n",
       "      <td>positive</td>\n",
       "      <td>positive</td>\n",
       "      <td>1</td>\n",
       "    </tr>\n",
       "    <tr>\n",
       "      <th>2</th>\n",
       "      <td>Zoloft</td>\n",
       "      <td>Depression</td>\n",
       "      <td>\"I  ;ve been on Zoloft mg for over two years  ...</td>\n",
       "      <td>9</td>\n",
       "      <td>2008-08-05</td>\n",
       "      <td>949</td>\n",
       "      <td>5</td>\n",
       "      <td>8</td>\n",
       "      <td>2008</td>\n",
       "      <td>7112</td>\n",
       "      <td>563</td>\n",
       "      <td>-0.6815</td>\n",
       "      <td>negative</td>\n",
       "      <td>positive</td>\n",
       "      <td>1</td>\n",
       "    </tr>\n",
       "    <tr>\n",
       "      <th>3</th>\n",
       "      <td>Adipex-P</td>\n",
       "      <td>Weight Loss</td>\n",
       "      <td>\"I have used this pill off and on for the past...</td>\n",
       "      <td>10</td>\n",
       "      <td>2008-10-19</td>\n",
       "      <td>796</td>\n",
       "      <td>19</td>\n",
       "      <td>10</td>\n",
       "      <td>2008</td>\n",
       "      <td>3111</td>\n",
       "      <td>237</td>\n",
       "      <td>0.7921</td>\n",
       "      <td>positive</td>\n",
       "      <td>positive</td>\n",
       "      <td>1</td>\n",
       "    </tr>\n",
       "    <tr>\n",
       "      <th>4</th>\n",
       "      <td>Citalopram</td>\n",
       "      <td>Depression</td>\n",
       "      <td>\"I responded after one week  The side effects ...</td>\n",
       "      <td>8</td>\n",
       "      <td>2008-03-25</td>\n",
       "      <td>771</td>\n",
       "      <td>25</td>\n",
       "      <td>3</td>\n",
       "      <td>2008</td>\n",
       "      <td>7112</td>\n",
       "      <td>1003</td>\n",
       "      <td>-0.7227</td>\n",
       "      <td>negative</td>\n",
       "      <td>negative</td>\n",
       "      <td>0</td>\n",
       "    </tr>\n",
       "  </tbody>\n",
       "</table>\n",
       "</div>"
      ],
      "text/plain": [
       "     drugName      condition  \\\n",
       "0  Sertraline     Depression   \n",
       "1      Mirena  Birth Control   \n",
       "2      Zoloft     Depression   \n",
       "3    Adipex-P    Weight Loss   \n",
       "4  Citalopram     Depression   \n",
       "\n",
       "                                              review  rating        date  \\\n",
       "0  \"I remember reading people  ;s opinions, onlin...      10  2008-07-31   \n",
       "1  \"I have had my IUD for over a year now and I t...      10  2009-04-01   \n",
       "2  \"I  ;ve been on Zoloft mg for over two years  ...       9  2008-08-05   \n",
       "3  \"I have used this pill off and on for the past...      10  2008-10-19   \n",
       "4  \"I responded after one week  The side effects ...       8  2008-03-25   \n",
       "\n",
       "   usefulCount  day  month  year  pop_w_cond  total_users  \\\n",
       "0         1291   31      7  2008        7112         1296   \n",
       "1         1247    1      4  2009       19525          830   \n",
       "2          949    5      8  2008        7112          563   \n",
       "3          796   19     10  2008        3111          237   \n",
       "4          771   25      3  2008        7112         1003   \n",
       "\n",
       "   vader_sentiment_score vader_sentiment_label pos-neg-rating  pos-neg-bin  \n",
       "0                 0.9772              positive       positive            1  \n",
       "1                 0.7739              positive       positive            1  \n",
       "2                -0.6815              negative       positive            1  \n",
       "3                 0.7921              positive       positive            1  \n",
       "4                -0.7227              negative       negative            0  "
      ]
     },
     "execution_count": 20,
     "metadata": {},
     "output_type": "execute_result"
    }
   ],
   "source": [
    "bigdata.head(5)"
   ]
  },
  {
   "cell_type": "code",
   "execution_count": 21,
   "metadata": {},
   "outputs": [
    {
     "data": {
      "text/plain": [
       "198"
      ]
     },
     "execution_count": 21,
     "metadata": {},
     "output_type": "execute_result"
    }
   ],
   "source": [
    "# Create StopWords List\n",
    "stoplist = stopwords.words('english')\n",
    "\n",
    "from nltk.corpus import stopwords\n",
    "stoplist = stopwords.words('english')\n",
    "# Let's extend the stoplist to account for other commonly occuring words in the text.\n",
    "stoplist.extend(['from', 'mg', 'ive', 'doctor', 'doc', 'pill', 'quot', 're','use','one', 'br', 'po', 'th', 'sayi', 'fo', 'unknown', 'take', 'take', 'taken,' 'get' ])\n",
    "len(stoplist)"
   ]
  },
  {
   "cell_type": "code",
   "execution_count": 22,
   "metadata": {},
   "outputs": [
    {
     "data": {
      "text/plain": [
       "178"
      ]
     },
     "execution_count": 22,
     "metadata": {},
     "output_type": "execute_result"
    }
   ],
   "source": [
    "# Words with the contraction, not are very useful in sentiment analysis\n",
    "not_stop = [\"aren't\",\"couldn't\",\"didn't\",\"doesn't\",\"don't\",\"hadn't\",\"hasn't\",\"haven't\",\"isn't\",\"mightn't\",\"mustn't\",\"needn't\",\"no\",\"nor\",\"not\",\"shan't\",\"shouldn't\",\"wasn't\",\"weren't\",\"wouldn't\"]\n",
    "for i in not_stop:\n",
    "    stoplist.remove(i)\n",
    "len(stoplist)"
   ]
  },
  {
   "cell_type": "code",
   "execution_count": 23,
   "metadata": {},
   "outputs": [],
   "source": [
    "def review_to_wordlist( review, remove_stopwords=False ):\n",
    "    # Remove HTML\n",
    "    review_text = BeautifulSoup(review).get_text()\n",
    "    # Remove non-letters\n",
    "    review_text = re.sub(\"[^a-zA-Z]\",\" \", review_text)\n",
    "    # Convert words to lower case and split them\n",
    "    words = review_text.lower().split()\n",
    "    # Optionally remove stop words (false by default) # I am going to use my previously defined stoplist\n",
    "    if remove_stopwords:\n",
    "        words = [w for w in words if not w in stoplist]\n",
    "    # Return a list of words\n",
    "    return(' '.join(words))"
   ]
  },
  {
   "cell_type": "code",
   "execution_count": 24,
   "metadata": {},
   "outputs": [
    {
     "name": "stderr",
     "output_type": "stream",
     "text": [
      "100%|██████████| 127927/127927 [00:32<00:00, 3981.67it/s]\n"
     ]
    }
   ],
   "source": [
    "bigdata['drugs'] = bigdata['drugName'].progress_apply(review_to_wordlist)"
   ]
  },
  {
   "cell_type": "code",
   "execution_count": 25,
   "metadata": {},
   "outputs": [],
   "source": [
    "# Let's scrub the reviews and use stemming"
   ]
  },
  {
   "cell_type": "code",
   "execution_count": 26,
   "metadata": {},
   "outputs": [],
   "source": [
    "stemmer = SnowballStemmer('english')\n",
    "def review_to_words(raw_review):\n",
    "    # 1. Delete HTML \n",
    "    review_text = BeautifulSoup(raw_review, 'html.parser').get_text()\n",
    "    # 2. Make a space\n",
    "    letters_only = re.sub('[^a-zA-Z]', ' ', review_text)\n",
    "    # 3. lower letters\n",
    "    words = letters_only.lower().split()\n",
    "    # 4. Stopwords \n",
    "    meaningful_words = [w for w in words if not w in stoplist]\n",
    "    # 5. Stemming\n",
    "    stemming_words = [stemmer.stem(w) for w in meaningful_words]\n",
    "    # 6. space join words\n",
    "    return( ' '.join(stemming_words))"
   ]
  },
  {
   "cell_type": "code",
   "execution_count": 27,
   "metadata": {},
   "outputs": [
    {
     "name": "stderr",
     "output_type": "stream",
     "text": [
      "100%|██████████| 127927/127927 [02:05<00:00, 1021.56it/s]\n"
     ]
    }
   ],
   "source": [
    "bigdata['review_stemmed'] = bigdata['review'].progress_apply(review_to_words)"
   ]
  },
  {
   "cell_type": "code",
   "execution_count": 28,
   "metadata": {},
   "outputs": [
    {
     "data": {
      "text/html": [
       "<div>\n",
       "<style scoped>\n",
       "    .dataframe tbody tr th:only-of-type {\n",
       "        vertical-align: middle;\n",
       "    }\n",
       "\n",
       "    .dataframe tbody tr th {\n",
       "        vertical-align: top;\n",
       "    }\n",
       "\n",
       "    .dataframe thead th {\n",
       "        text-align: right;\n",
       "    }\n",
       "</style>\n",
       "<table border=\"1\" class=\"dataframe\">\n",
       "  <thead>\n",
       "    <tr style=\"text-align: right;\">\n",
       "      <th></th>\n",
       "      <th>drugName</th>\n",
       "      <th>condition</th>\n",
       "      <th>review</th>\n",
       "      <th>rating</th>\n",
       "      <th>date</th>\n",
       "      <th>usefulCount</th>\n",
       "      <th>day</th>\n",
       "      <th>month</th>\n",
       "      <th>year</th>\n",
       "      <th>pop_w_cond</th>\n",
       "      <th>total_users</th>\n",
       "      <th>vader_sentiment_score</th>\n",
       "      <th>vader_sentiment_label</th>\n",
       "      <th>pos-neg-rating</th>\n",
       "      <th>pos-neg-bin</th>\n",
       "      <th>drugs</th>\n",
       "      <th>review_stemmed</th>\n",
       "    </tr>\n",
       "  </thead>\n",
       "  <tbody>\n",
       "    <tr>\n",
       "      <th>0</th>\n",
       "      <td>Sertraline</td>\n",
       "      <td>Depression</td>\n",
       "      <td>\"I remember reading people  ;s opinions, onlin...</td>\n",
       "      <td>10</td>\n",
       "      <td>2008-07-31</td>\n",
       "      <td>1291</td>\n",
       "      <td>31</td>\n",
       "      <td>7</td>\n",
       "      <td>2008</td>\n",
       "      <td>7112</td>\n",
       "      <td>1296</td>\n",
       "      <td>0.9772</td>\n",
       "      <td>positive</td>\n",
       "      <td>positive</td>\n",
       "      <td>1</td>\n",
       "      <td>sertraline</td>\n",
       "      <td>rememb read peopl opinion onlin drug took scar...</td>\n",
       "    </tr>\n",
       "    <tr>\n",
       "      <th>1</th>\n",
       "      <td>Mirena</td>\n",
       "      <td>Birth Control</td>\n",
       "      <td>\"I have had my IUD for over a year now and I t...</td>\n",
       "      <td>10</td>\n",
       "      <td>2009-04-01</td>\n",
       "      <td>1247</td>\n",
       "      <td>1</td>\n",
       "      <td>4</td>\n",
       "      <td>2009</td>\n",
       "      <td>19525</td>\n",
       "      <td>830</td>\n",
       "      <td>0.7739</td>\n",
       "      <td>positive</td>\n",
       "      <td>positive</td>\n",
       "      <td>1</td>\n",
       "      <td>mirena</td>\n",
       "      <td>iud year think best thing ever first got put b...</td>\n",
       "    </tr>\n",
       "    <tr>\n",
       "      <th>2</th>\n",
       "      <td>Zoloft</td>\n",
       "      <td>Depression</td>\n",
       "      <td>\"I  ;ve been on Zoloft mg for over two years  ...</td>\n",
       "      <td>9</td>\n",
       "      <td>2008-08-05</td>\n",
       "      <td>949</td>\n",
       "      <td>5</td>\n",
       "      <td>8</td>\n",
       "      <td>2008</td>\n",
       "      <td>7112</td>\n",
       "      <td>563</td>\n",
       "      <td>-0.6815</td>\n",
       "      <td>negative</td>\n",
       "      <td>positive</td>\n",
       "      <td>1</td>\n",
       "      <td>zoloft</td>\n",
       "      <td>zoloft two year relax easi go person zoloft pr...</td>\n",
       "    </tr>\n",
       "    <tr>\n",
       "      <th>3</th>\n",
       "      <td>Adipex-P</td>\n",
       "      <td>Weight Loss</td>\n",
       "      <td>\"I have used this pill off and on for the past...</td>\n",
       "      <td>10</td>\n",
       "      <td>2008-10-19</td>\n",
       "      <td>796</td>\n",
       "      <td>19</td>\n",
       "      <td>10</td>\n",
       "      <td>2008</td>\n",
       "      <td>3111</td>\n",
       "      <td>237</td>\n",
       "      <td>0.7921</td>\n",
       "      <td>positive</td>\n",
       "      <td>positive</td>\n",
       "      <td>1</td>\n",
       "      <td>adipex p</td>\n",
       "      <td>use past year say best lose weight thing ever ...</td>\n",
       "    </tr>\n",
       "    <tr>\n",
       "      <th>4</th>\n",
       "      <td>Citalopram</td>\n",
       "      <td>Depression</td>\n",
       "      <td>\"I responded after one week  The side effects ...</td>\n",
       "      <td>8</td>\n",
       "      <td>2008-03-25</td>\n",
       "      <td>771</td>\n",
       "      <td>25</td>\n",
       "      <td>3</td>\n",
       "      <td>2008</td>\n",
       "      <td>7112</td>\n",
       "      <td>1003</td>\n",
       "      <td>-0.7227</td>\n",
       "      <td>negative</td>\n",
       "      <td>negative</td>\n",
       "      <td>0</td>\n",
       "      <td>citalopram</td>\n",
       "      <td>respond week side effect lethargi bowel proble...</td>\n",
       "    </tr>\n",
       "  </tbody>\n",
       "</table>\n",
       "</div>"
      ],
      "text/plain": [
       "     drugName      condition  \\\n",
       "0  Sertraline     Depression   \n",
       "1      Mirena  Birth Control   \n",
       "2      Zoloft     Depression   \n",
       "3    Adipex-P    Weight Loss   \n",
       "4  Citalopram     Depression   \n",
       "\n",
       "                                              review  rating        date  \\\n",
       "0  \"I remember reading people  ;s opinions, onlin...      10  2008-07-31   \n",
       "1  \"I have had my IUD for over a year now and I t...      10  2009-04-01   \n",
       "2  \"I  ;ve been on Zoloft mg for over two years  ...       9  2008-08-05   \n",
       "3  \"I have used this pill off and on for the past...      10  2008-10-19   \n",
       "4  \"I responded after one week  The side effects ...       8  2008-03-25   \n",
       "\n",
       "   usefulCount  day  month  year  pop_w_cond  total_users  \\\n",
       "0         1291   31      7  2008        7112         1296   \n",
       "1         1247    1      4  2009       19525          830   \n",
       "2          949    5      8  2008        7112          563   \n",
       "3          796   19     10  2008        3111          237   \n",
       "4          771   25      3  2008        7112         1003   \n",
       "\n",
       "   vader_sentiment_score vader_sentiment_label pos-neg-rating  pos-neg-bin  \\\n",
       "0                 0.9772              positive       positive            1   \n",
       "1                 0.7739              positive       positive            1   \n",
       "2                -0.6815              negative       positive            1   \n",
       "3                 0.7921              positive       positive            1   \n",
       "4                -0.7227              negative       negative            0   \n",
       "\n",
       "        drugs                                     review_stemmed  \n",
       "0  sertraline  rememb read peopl opinion onlin drug took scar...  \n",
       "1      mirena  iud year think best thing ever first got put b...  \n",
       "2      zoloft  zoloft two year relax easi go person zoloft pr...  \n",
       "3    adipex p  use past year say best lose weight thing ever ...  \n",
       "4  citalopram  respond week side effect lethargi bowel proble...  "
      ]
     },
     "execution_count": 28,
     "metadata": {},
     "output_type": "execute_result"
    }
   ],
   "source": [
    "bigdata.head()"
   ]
  },
  {
   "cell_type": "code",
   "execution_count": 29,
   "metadata": {},
   "outputs": [],
   "source": [
    "def review_to_wordlist( condition, remove_stopwords=False ):\n",
    "    # Remove HTML\n",
    "    review_text = BeautifulSoup(condition).get_text()\n",
    "    # Remove non-letters\n",
    "    review_text = re.sub(\"[^a-zA-Z]\",\" \", review_text)\n",
    "    # Convert words to lower case and split them\n",
    "    words = review_text.lower().split()\n",
    "    # Optionally remove stop words (false by default) # I am going to use my previously defined stoplist\n",
    "    if remove_stopwords:\n",
    "        words = [w for w in words if not w in stoplist]\n",
    "    # Return a list of words\n",
    "    return(' '.join(words))"
   ]
  },
  {
   "cell_type": "code",
   "execution_count": 30,
   "metadata": {},
   "outputs": [
    {
     "name": "stderr",
     "output_type": "stream",
     "text": [
      "100%|██████████| 127927/127927 [00:28<00:00, 4493.23it/s]\n"
     ]
    }
   ],
   "source": [
    "bigdata['clean_condition'] = bigdata['condition'].progress_apply(review_to_wordlist)"
   ]
  },
  {
   "cell_type": "code",
   "execution_count": 31,
   "metadata": {},
   "outputs": [
    {
     "data": {
      "text/plain": [
       "0"
      ]
     },
     "execution_count": 31,
     "metadata": {},
     "output_type": "execute_result"
    }
   ],
   "source": [
    "len(bigdata[bigdata.clean_condition.str.contains(\"</span> users found this comment helpful\")])"
   ]
  },
  {
   "cell_type": "code",
   "execution_count": 33,
   "metadata": {},
   "outputs": [],
   "source": [
    "bigdata.to_csv(\"bigdata_clean.csv\")"
   ]
  },
  {
   "cell_type": "markdown",
   "metadata": {},
   "source": [
    "### Vader Analysis"
   ]
  },
  {
   "cell_type": "code",
   "execution_count": 34,
   "metadata": {},
   "outputs": [
    {
     "name": "stdout",
     "output_type": "stream",
     "text": [
      "Fitting 5 folds for each of 40 candidates, totalling 200 fits\n"
     ]
    },
    {
     "name": "stderr",
     "output_type": "stream",
     "text": [
      "[Parallel(n_jobs=1)]: Using backend SequentialBackend with 1 concurrent workers.\n",
      "[Parallel(n_jobs=1)]: Done 200 out of 200 | elapsed:   46.9s finished\n"
     ]
    }
   ],
   "source": [
    "X = bigdata[[\"vader_sentiment_score\"]]\n",
    "y = bigdata['pos-neg-bin']\n",
    "\n",
    "X_train,X_test,y_train,y_test = train_test_split(X, y, test_size=.25, random_state=42)\n",
    "\n",
    "# First we set up our pipeline for analysis\n",
    "\n",
    "\n",
    "scaler = StandardScaler()\n",
    "logreg = LogisticRegression()\n",
    "estimators = [('scaler', scaler) , ('logreg', logreg)]\n",
    "\n",
    "# Create our actual pipeline\n",
    "\n",
    "pipe = Pipeline(estimators)\n",
    "\n",
    "# Now we set up our grid search\n",
    "params = {'logreg__C': [0.00001, 0.0001, 0.001, 0.01, 0.1, 1, 10, 100, 1000, 10000],\n",
    "         'logreg__solver': ['saga', 'liblinear'],\n",
    "         'logreg__penalty': ['l1','l2'] }\n",
    "# Instantiate our grid searcher\n",
    "grid_search = GridSearchCV(pipe, param_grid = params, scoring = 'f1', cv=5, verbose=True)\n",
    "# Fit our searcher to our data\n",
    "fitted_search = grid_search.fit(X_train, y_train)"
   ]
  },
  {
   "cell_type": "code",
   "execution_count": 35,
   "metadata": {},
   "outputs": [
    {
     "data": {
      "text/plain": [
       "Pipeline(memory=None,\n",
       "     steps=[('scaler', StandardScaler(copy=True, with_mean=True, with_std=True)), ('logreg', LogisticRegression(C=0.001, class_weight=None, dual=False, fit_intercept=True,\n",
       "          intercept_scaling=1, max_iter=100, multi_class='warn',\n",
       "          n_jobs=None, penalty='l1', random_state=None, solver='liblinear',\n",
       "          tol=0.0001, verbose=0, warm_start=False))])"
      ]
     },
     "metadata": {},
     "output_type": "display_data"
    },
    {
     "name": "stdout",
     "output_type": "stream",
     "text": [
      "f1: 0.598404085541015\n",
      "Confusion mattrix:\n",
      " [[10026  6368]\n",
      " [ 6214  9374]]\n",
      "              precision    recall  f1-score   support\n",
      "\n",
      "           0       0.62      0.61      0.61     16394\n",
      "           1       0.60      0.60      0.60     15588\n",
      "\n",
      "   micro avg       0.61      0.61      0.61     31982\n",
      "   macro avg       0.61      0.61      0.61     31982\n",
      "weighted avg       0.61      0.61      0.61     31982\n",
      "\n"
     ]
    }
   ],
   "source": [
    "from sklearn.metrics import f1_score\n",
    "# Look at the hyperparameters it found\n",
    "display(fitted_search.best_estimator_)\n",
    "# Calculate its predicted values on our test set\n",
    "y_pred = fitted_search.best_estimator_.predict(X_test)\n",
    "# Look at some evaluations metrics\n",
    "print('f1:', f1_score(y_test, y_pred))\n",
    "print('Confusion mattrix:\\n', confusion_matrix(y_test, y_pred))\n",
    "print(classification_report(y_test, y_pred))"
   ]
  },
  {
   "cell_type": "code",
   "execution_count": 36,
   "metadata": {},
   "outputs": [
    {
     "name": "stdout",
     "output_type": "stream",
     "text": [
      "Fitting 5 folds for each of 72 candidates, totalling 360 fits\n"
     ]
    },
    {
     "name": "stderr",
     "output_type": "stream",
     "text": [
      "[Parallel(n_jobs=-1)]: Using backend LokyBackend with 4 concurrent workers.\n",
      "[Parallel(n_jobs=-1)]: Done  10 tasks      | elapsed:  1.9min\n",
      "[Parallel(n_jobs=-1)]: Done  64 tasks      | elapsed:  9.4min\n",
      "[Parallel(n_jobs=-1)]: Done 154 tasks      | elapsed: 26.5min\n",
      "[Parallel(n_jobs=-1)]: Done 280 tasks      | elapsed: 49.8min\n",
      "[Parallel(n_jobs=-1)]: Done 360 out of 360 | elapsed: 66.4min finished\n"
     ]
    },
    {
     "data": {
      "text/plain": [
       "GridSearchCV(cv=5, error_score='raise-deprecating',\n",
       "       estimator=RandomForestClassifier(bootstrap=True, class_weight=None, criterion='gini',\n",
       "            max_depth=None, max_features='auto', max_leaf_nodes=None,\n",
       "            min_impurity_decrease=0.0, min_impurity_split=None,\n",
       "            min_samples_leaf=1, min_samples_split=2,\n",
       "            min_weight_fraction_leaf=0.0, n_estimators='warn', n_jobs=None,\n",
       "            oob_score=False, random_state=42, verbose=0, warm_start=False),\n",
       "       fit_params=None, iid='warn', n_jobs=-1,\n",
       "       param_grid={'n_estimators': [300, 400, 500], 'max_features': ['auto', 'sqrt', 'log2'], 'max_depth': [5, 6, 7, 8], 'criterion': ['gini', 'entropy']},\n",
       "       pre_dispatch='2*n_jobs', refit=True, return_train_score='warn',\n",
       "       scoring=None, verbose=5)"
      ]
     },
     "execution_count": 36,
     "metadata": {},
     "output_type": "execute_result"
    }
   ],
   "source": [
    "X = bigdata[[\"vader_sentiment_score\"]]\n",
    "y = bigdata['pos-neg-bin']\n",
    "\n",
    "X_train,X_test,y_train,y_test = train_test_split(X, y, test_size=.25, random_state=42)\n",
    "\n",
    "# First we set up our pipeline for analysis\n",
    "\n",
    "\n",
    "rfc=RandomForestClassifier(random_state=42)\n",
    "\n",
    "\n",
    "# Now we set up our grid search\n",
    "params = {      \n",
    "                'n_estimators': [300,400,500],\n",
    "                'max_features': ['auto', 'sqrt', 'log2'],\n",
    "                'max_depth' : [5,6,7,8],\n",
    "                'criterion' : ['gini', 'entropy']\n",
    "         }\n",
    "\n",
    "CV_rfc = GridSearchCV(estimator=rfc, param_grid=params, cv= 5, verbose=5, n_jobs= -1)\n",
    "\n",
    "CV_rfc.fit(X_train, y_train)"
   ]
  },
  {
   "cell_type": "code",
   "execution_count": 37,
   "metadata": {},
   "outputs": [
    {
     "data": {
      "text/plain": [
       "{'criterion': 'entropy',\n",
       " 'max_depth': 8,\n",
       " 'max_features': 'auto',\n",
       " 'n_estimators': 300}"
      ]
     },
     "execution_count": 37,
     "metadata": {},
     "output_type": "execute_result"
    }
   ],
   "source": [
    "CV_rfc.best_params_"
   ]
  },
  {
   "cell_type": "code",
   "execution_count": 38,
   "metadata": {},
   "outputs": [
    {
     "name": "stdout",
     "output_type": "stream",
     "text": [
      "F1_Score for Random Forest on CV data:  0.570672349786883\n",
      "Confusion mattrix:\n",
      " [[11191  5203]\n",
      " [ 7287  8301]]\n",
      "              precision    recall  f1-score   support\n",
      "\n",
      "           0       0.61      0.68      0.64     16394\n",
      "           1       0.61      0.53      0.57     15588\n",
      "\n",
      "   micro avg       0.61      0.61      0.61     31982\n",
      "   macro avg       0.61      0.61      0.61     31982\n",
      "weighted avg       0.61      0.61      0.61     31982\n",
      "\n"
     ]
    }
   ],
   "source": [
    "rfc1=RandomForestClassifier(random_state=42, max_features='auto', n_estimators= 300, \n",
    "                            max_depth=8, criterion='entropy')\n",
    "\n",
    "rfc1.fit(X_train, y_train)\n",
    "\n",
    "y_pred=rfc1.predict(X_test)\n",
    "\n",
    "print(\"F1_Score for Random Forest on CV data: \",f1_score(y_test,y_pred))\n",
    "print('Confusion mattrix:\\n', confusion_matrix(y_test, y_pred))\n",
    "print(classification_report(y_test, y_pred))"
   ]
  },
  {
   "cell_type": "markdown",
   "metadata": {},
   "source": [
    "Logically it makes sense to me that sentiment alone isn't able to predict rating with tremendous accuracy. \n",
    "When people provide reviews, words don't always equal numbers, and numbers don't equal words. \n",
    "\n",
    "A key takeaway for me is that while we have a bi-modal distribution of ratings (which is a common situation), \n",
    "that their ratings are really low , or really high. We can use sentiment analysis to figure out how people feel \n",
    "and not just the high rating or low rating. What is someone who gives a 6-8 score really saying about their experience through their statements. "
   ]
  },
  {
   "cell_type": "code",
   "execution_count": 39,
   "metadata": {},
   "outputs": [],
   "source": [
    "# What happens if we we add some more features?"
   ]
  },
  {
   "cell_type": "code",
   "execution_count": 40,
   "metadata": {},
   "outputs": [
    {
     "name": "stdout",
     "output_type": "stream",
     "text": [
      "Fitting 5 folds for each of 36 candidates, totalling 180 fits\n"
     ]
    },
    {
     "name": "stderr",
     "output_type": "stream",
     "text": [
      "[Parallel(n_jobs=1)]: Using backend SequentialBackend with 1 concurrent workers.\n",
      "[Parallel(n_jobs=1)]: Done 180 out of 180 | elapsed:   51.6s finished\n"
     ]
    }
   ],
   "source": [
    "X = bigdata[[\"vader_sentiment_score\", \"usefulCount\", \"year\", \"pop_w_cond\", \"total_users\"]]\n",
    "y = bigdata['pos-neg-bin']\n",
    "\n",
    "X_train,X_test,y_train,y_test = train_test_split(X, y, test_size=.25, random_state=42)\n",
    "\n",
    "# First we set up our pipeline for analysis\n",
    "\n",
    "from sklearn.pipeline import Pipeline\n",
    "scaler = StandardScaler()\n",
    "logreg = LogisticRegression()\n",
    "\n",
    "estimators = [('scaler', scaler) , ('logreg', logreg)]\n",
    "\n",
    "# Create our actual pipeline\n",
    "\n",
    "pipe = Pipeline(estimators)\n",
    "\n",
    "# Now we set up our grid search\n",
    "params = {'logreg__C': [0.001, 0.01, 0.1, 1, 5, 10, 100, 1000, 10000],\n",
    "         'logreg__solver': ['saga', 'liblinear'],\n",
    "         'logreg__penalty': ['l1','l2'] }\n",
    "# Instantiate our grid searcher\n",
    "grid_search = GridSearchCV(pipe, param_grid = params, scoring = 'f1', cv=5, verbose=True)\n",
    "# Fit our searcher to our data\n",
    "fitted_search = grid_search.fit(X_train, y_train)"
   ]
  },
  {
   "cell_type": "code",
   "execution_count": 41,
   "metadata": {},
   "outputs": [
    {
     "data": {
      "text/plain": [
       "Pipeline(memory=None,\n",
       "     steps=[('scaler', StandardScaler(copy=True, with_mean=True, with_std=True)), ('logreg', LogisticRegression(C=0.001, class_weight=None, dual=False, fit_intercept=True,\n",
       "          intercept_scaling=1, max_iter=100, multi_class='warn',\n",
       "          n_jobs=None, penalty='l1', random_state=None, solver='liblinear',\n",
       "          tol=0.0001, verbose=0, warm_start=False))])"
      ]
     },
     "metadata": {},
     "output_type": "display_data"
    },
    {
     "name": "stdout",
     "output_type": "stream",
     "text": [
      "F1: 0.637788726086122\n",
      "Confusion mattrix:\n",
      " [[10692  5702]\n",
      " [ 5620  9968]]\n",
      "              precision    recall  f1-score   support\n",
      "\n",
      "           0       0.66      0.65      0.65     16394\n",
      "           1       0.64      0.64      0.64     15588\n",
      "\n",
      "   micro avg       0.65      0.65      0.65     31982\n",
      "   macro avg       0.65      0.65      0.65     31982\n",
      "weighted avg       0.65      0.65      0.65     31982\n",
      "\n"
     ]
    }
   ],
   "source": [
    "# Look at the hyperparameters it found\n",
    "display(fitted_search.best_estimator_)\n",
    "# Calculate its predicted values on our test set\n",
    "y_pred = fitted_search.best_estimator_.predict(X_test)\n",
    "# Look at some evaluations metrics\n",
    "print('F1:', f1_score(y_test, y_pred))\n",
    "print('Confusion mattrix:\\n', confusion_matrix(y_test, y_pred))\n",
    "print(classification_report(y_test, y_pred))"
   ]
  },
  {
   "cell_type": "code",
   "execution_count": 42,
   "metadata": {},
   "outputs": [
    {
     "name": "stderr",
     "output_type": "stream",
     "text": [
      "[Parallel(n_jobs=-1)]: Using backend ThreadingBackend with 4 concurrent workers.\n",
      "[Parallel(n_jobs=-1)]: Done  42 tasks      | elapsed:    1.0s\n",
      "[Parallel(n_jobs=-1)]: Done 192 tasks      | elapsed:    4.9s\n",
      "[Parallel(n_jobs=-1)]: Done 300 out of 300 | elapsed:    7.3s finished\n",
      "[Parallel(n_jobs=4)]: Using backend ThreadingBackend with 4 concurrent workers.\n",
      "[Parallel(n_jobs=4)]: Done  42 tasks      | elapsed:    0.0s\n",
      "[Parallel(n_jobs=4)]: Done 192 tasks      | elapsed:    0.2s\n",
      "[Parallel(n_jobs=4)]: Done 300 out of 300 | elapsed:    0.3s finished\n",
      "[Parallel(n_jobs=4)]: Using backend ThreadingBackend with 4 concurrent workers.\n",
      "[Parallel(n_jobs=4)]: Done  42 tasks      | elapsed:    0.0s\n",
      "[Parallel(n_jobs=4)]: Done 192 tasks      | elapsed:    0.2s\n",
      "[Parallel(n_jobs=4)]: Done 300 out of 300 | elapsed:    0.3s finished\n"
     ]
    },
    {
     "name": "stdout",
     "output_type": "stream",
     "text": [
      "Accuracy: 0.6490213244950285\n",
      "Confusion Matrix\n",
      "[[10357  6037]\n",
      " [ 5188 10400]]\n",
      "              precision    recall  f1-score   support\n",
      "\n",
      "           0       0.67      0.63      0.65     16394\n",
      "           1       0.63      0.67      0.65     15588\n",
      "\n",
      "   micro avg       0.65      0.65      0.65     31982\n",
      "   macro avg       0.65      0.65      0.65     31982\n",
      "weighted avg       0.65      0.65      0.65     31982\n",
      "\n"
     ]
    }
   ],
   "source": [
    "X = bigdata[[\"vader_sentiment_score\", \"usefulCount\", \"year\", \"pop_w_cond\", \"total_users\"]]\n",
    "y = bigdata['pos-neg-bin']\n",
    "\n",
    "\n",
    "X_train,X_test,y_train,y_test = train_test_split(X, y, test_size=.25, random_state=42)\n",
    "rfc_rating = RandomForestClassifier(n_estimators=300, random_state=42, max_depth = 300, \n",
    "                                    min_samples_split=0.1, n_jobs= -1, verbose=1)\n",
    "rfc_rating.fit(X_train, y_train)\n",
    "\n",
    "# Evaluates model on test set\n",
    "y_pred = rfc_rating.predict(X_test)\n",
    "\n",
    "print(\"Accuracy:\",  rfc_rating.score(X_test, y_test))\n",
    "print(\"Confusion Matrix\")\n",
    "print(confusion_matrix(y_test, y_pred))\n",
    "print(classification_report(y_test, y_pred))"
   ]
  },
  {
   "cell_type": "code",
   "execution_count": 43,
   "metadata": {},
   "outputs": [],
   "source": [
    "# Unfortunately, my models are struggling to have scores over 70%. Later on, I will see if I can do better using \n",
    "# word vectors rather than sentiment! "
   ]
  },
  {
   "cell_type": "code",
   "execution_count": 44,
   "metadata": {},
   "outputs": [],
   "source": [
    "# However, that doesn't mean that there isn't value that can be extracted by medical professionals.\n",
    "# I am curious, what drugs for each condition, have the highest sentiment. "
   ]
  },
  {
   "cell_type": "code",
   "execution_count": 46,
   "metadata": {},
   "outputs": [
    {
     "data": {
      "text/html": [
       "<div>\n",
       "<style scoped>\n",
       "    .dataframe tbody tr th:only-of-type {\n",
       "        vertical-align: middle;\n",
       "    }\n",
       "\n",
       "    .dataframe tbody tr th {\n",
       "        vertical-align: top;\n",
       "    }\n",
       "\n",
       "    .dataframe thead th {\n",
       "        text-align: right;\n",
       "    }\n",
       "</style>\n",
       "<table border=\"1\" class=\"dataframe\">\n",
       "  <thead>\n",
       "    <tr style=\"text-align: right;\">\n",
       "      <th></th>\n",
       "      <th>clean_condition</th>\n",
       "      <th>drugs</th>\n",
       "      <th>vader_sentiment_score</th>\n",
       "      <th>rating</th>\n",
       "    </tr>\n",
       "  </thead>\n",
       "  <tbody>\n",
       "    <tr>\n",
       "      <th>0</th>\n",
       "      <td>depression</td>\n",
       "      <td>sertraline</td>\n",
       "      <td>0.9772</td>\n",
       "      <td>10</td>\n",
       "    </tr>\n",
       "    <tr>\n",
       "      <th>1</th>\n",
       "      <td>birth control</td>\n",
       "      <td>mirena</td>\n",
       "      <td>0.7739</td>\n",
       "      <td>10</td>\n",
       "    </tr>\n",
       "    <tr>\n",
       "      <th>2</th>\n",
       "      <td>depression</td>\n",
       "      <td>zoloft</td>\n",
       "      <td>-0.6815</td>\n",
       "      <td>9</td>\n",
       "    </tr>\n",
       "    <tr>\n",
       "      <th>3</th>\n",
       "      <td>weight loss</td>\n",
       "      <td>adipex p</td>\n",
       "      <td>0.7921</td>\n",
       "      <td>10</td>\n",
       "    </tr>\n",
       "    <tr>\n",
       "      <th>4</th>\n",
       "      <td>depression</td>\n",
       "      <td>citalopram</td>\n",
       "      <td>-0.7227</td>\n",
       "      <td>8</td>\n",
       "    </tr>\n",
       "  </tbody>\n",
       "</table>\n",
       "</div>"
      ],
      "text/plain": [
       "  clean_condition       drugs  vader_sentiment_score  rating\n",
       "0      depression  sertraline                 0.9772      10\n",
       "1   birth control      mirena                 0.7739      10\n",
       "2      depression      zoloft                -0.6815       9\n",
       "3     weight loss    adipex p                 0.7921      10\n",
       "4      depression  citalopram                -0.7227       8"
      ]
     },
     "execution_count": 46,
     "metadata": {},
     "output_type": "execute_result"
    }
   ],
   "source": [
    "new_df = bigdata[[\"clean_condition\", \"drugs\", \"vader_sentiment_score\", \"rating\"]]\n",
    "new_df.head()"
   ]
  },
  {
   "cell_type": "markdown",
   "metadata": {},
   "source": [
    "#### In order to understand how drugs compared between sentiment and rating, I need to replace the cases of the generic with the brand name."
   ]
  },
  {
   "cell_type": "code",
   "execution_count": 47,
   "metadata": {},
   "outputs": [
    {
     "data": {
      "text/plain": [
       "54"
      ]
     },
     "execution_count": 47,
     "metadata": {},
     "output_type": "execute_result"
    }
   ],
   "source": [
    "replaceDict =     [('Zoloft', 'Sertraline'),\n",
    "                   ('Prozac','Fluoxetine'), \n",
    "                   ('Implanon', 'Etonogestrel' ),\n",
    "                   ('Mirena',  'Levonorgestrel'),\n",
    "                   ('Mirena', 'Levonogestrel'), \n",
    "                   ('Xanax','Alprazolam'), \n",
    "                   ('Percocet', 'Acetaminophen / oxycodone'), \n",
    "                   ('Topamax' ,'Topiramate'), \n",
    "                   ('Prolia', 'Denosumab'), \n",
    "                   ('Adipex-P', 'Phentermine'), \n",
    "                   ('OxyContin', 'Oxycodone'), \n",
    "                   ('Celexa', 'Citalopram'), \n",
    "                   ('BuSpar', 'Busiprone'),\n",
    "                   ('Belviq', 'Locasserin'), \n",
    "                   ('Viibryd', 'Vilazodone'), \n",
    "                   ('Neurontin','Gabapentin'), \n",
    "                   ('Clomid', 'Clomiphene'),\n",
    "                   ('Pristiq', 'Desvenlafaxine'), \n",
    "                   ('Prozac','Fluoxetine'), \n",
    "                   ('Implanon', 'Etonogestrel' ),\n",
    "                   ('Xanax','Alprazolam'), \n",
    "                   ('Topamax' ,'Topiramate'),\n",
    "                   ('Prolia', 'Denosumab'),\n",
    "                   ('Lexapro','Escitalopram'), \n",
    "                   ('Paxil', 'Paroxetine' ), \n",
    "                   ('Cymbalta','Duloxetine'),\n",
    "                   ('L-methylfolate' ,'Deplin'), \n",
    "                   ('Robaxin', 'Methocarbamol'), \n",
    "                   ('Xenical', 'Orlistat'), \n",
    "                   ('Robaxin-750','Methocarbamol'), \n",
    "                   ('Wellbutrin', 'Bupropion' ), \n",
    "                   ('Lamictal','Lamotrigine'),\n",
    "                   ('Suboxone', 'Buprenorphine / naloxone'), \n",
    "                   ('Femara', 'Letrozole'), \n",
    "                   ('Remeron', 'Mirtazapine'),\n",
    "                   ('Cytomel', 'Liothyronine'), \n",
    "                   ('Elavil', 'Amitriptyline'),\n",
    "                   ('Cozaar-750','Losartan'), \n",
    "                   ('Tramadol', 'Ultram' ), \n",
    "                   ('Vyvanse','Lisdexamfetamine'),\n",
    "                   ('Valium' ,'Diazepam'), \n",
    "                   ('Proscar', 'Finasteride'), \n",
    "                   ('Etonogestrel',  'Ethinyl estradiol / etonogestrel'),\n",
    "                   ('NuvaRing', 'Etonogestrel'), \n",
    "                   ('Amoxil', 'Amoxicillin'), \n",
    "                   ('Norvasc', 'Amlodipine' ),\n",
    "                   ('Strattera','Atomoxetine'), \n",
    "                   ('Arimidex', 'Anastrozole' ), \n",
    "                   ('Wellbutrin SR','Bupropion'),\n",
    "                   ('Lyrica' ,'Pregabalin'), \n",
    "                   ('Rogaine', 'Minoxidil'), \n",
    "                   ('NuvaRing', 'Etonogestrel'), \n",
    "                   ('Arimidex', 'Anastrozole'),\n",
    "                   ('Cialis','Tadalafil')] \n",
    "len(replaceDict)"
   ]
  },
  {
   "cell_type": "code",
   "execution_count": 48,
   "metadata": {},
   "outputs": [
    {
     "data": {
      "text/plain": [
       "50"
      ]
     },
     "execution_count": 48,
     "metadata": {},
     "output_type": "execute_result"
    }
   ],
   "source": [
    "replaceDict2 =  [('Estrace Vaginal Cream','Estradiol'), \n",
    "                 (\"Losartan\",\"Cozaar\"), \n",
    "                 ('Provigil', 'Modafinil'),\n",
    "                 ('Wellbutrin XL','Bupropion'), \n",
    "                 (\"Pamelor\",\"Nortriptyline\"), \n",
    "                 ('Effexor XR', 'Venlafaxine'), \n",
    "                 (\"Pravachol\",\"Pravastatin\"),\n",
    "                 (\"Finasteride\",\"Minoxidil\"), \n",
    "                 ('Lexapro', 'Escitalopram' ), \n",
    "                 ('Pravachol', 'Pravastatin'),\n",
    "                 ('Fetzima', 'Levomilnacipran'), \n",
    "                 ('Lipitor', 'Atorvastatin'), \n",
    "                 ('Fosamax','Alendronate' ), \n",
    "                 ('Acetaminophen / hydrocodone', 'Norco'),\n",
    "                 ('AndroGel', 'Testosterone'), \n",
    "                 ('Provera', 'Medroxyprogesterone'), \n",
    "                 ('Forteo', 'Teriparatide'), \n",
    "                 ('Phentermine / topiramate', 'Qsymia'),\n",
    "                 ('Zanaflex','Tizanidine'), \n",
    "                 ('Abilify','Aripiprazole'), \n",
    "                 ('MS Contin','Morphine'), \n",
    "                 ('Klonopin', 'Clonazepam'),\n",
    "                 ('Synthroid','Levothyroxine'), \n",
    "                 ('Methylin ER', 'Methylphenidate'), \n",
    "                 ('Votrient', \"Pazopanib\"), \n",
    "                 ('Tarceva','Erlotinib'),\n",
    "                 ('Savella', 'Milnacipran'), \n",
    "                 ('Armour Thyroid','Thyroid desiccated'), \n",
    "                 ('Xanax', 'Alprazolam'), \n",
    "                 ('Retin-A', 'Tretinoin'), \n",
    "                 ('Zoledronic acid', 'Reclast'), \n",
    "                 ('Armour Thyroid','Thyroid desiccated'), \n",
    "                 ('Loestrin 24 Fe', 'Ethinyl estradiol / norethindrone'), \n",
    "                 ('Fastin','Phentermine'),\n",
    "                 ('Xarelto', 'Rivaroxaban' ), \n",
    "                 ('Sprintec', 'Ethinyl estradiol / norgestimate'), \n",
    "                 ('Aricept', 'Donepezil'), \n",
    "                 ('Hydroxychloroquine', 'Plaquenil'),\n",
    "                 ('Valtrex','Valacyclovir'), \n",
    "                 ('Citrate of Magnesia','Magnesium citrate'), \n",
    "                 ('Ampyra', 'Dalfampridine'), \n",
    "                 ('Zolpidem', 'Ambien'),\n",
    "                 ('Meloxicam', 'Mobic'), \n",
    "                 ('Anafranil', 'Clomipramine'), \n",
    "                 ('Seroquel','Quetiapine'), \n",
    "                 ('Altace', 'Ramipril'),\n",
    "                 ('Amphetamine/dextroamphetamine', 'Adderall'), \n",
    "                 ('Mydayis','Adderall'), \n",
    "                 ('Adderall XR', 'Adderall'),\n",
    "                 ('Suprep Bowel Prep Kit', 'Magnesium sulfate / potassium sulfate / sodium sulfate', )]\n",
    "\n",
    "len(replaceDict2)"
   ]
  },
  {
   "cell_type": "code",
   "execution_count": 49,
   "metadata": {},
   "outputs": [],
   "source": [
    "replacedrugs = replaceDict + replaceDict2\n",
    "replaceDict = [t[::-1] for t in replacedrugs]"
   ]
  },
  {
   "cell_type": "code",
   "execution_count": 50,
   "metadata": {},
   "outputs": [],
   "source": [
    "replaceDict = dict(replaceDict)\n",
    "\n",
    "def lower_dict(d):\n",
    "    new_dict = dict((k.lower(), v.lower()) for k, v in d.items())\n",
    "    return new_dict\n",
    "replaceDict = (lower_dict(replaceDict))"
   ]
  },
  {
   "cell_type": "code",
   "execution_count": 51,
   "metadata": {},
   "outputs": [
    {
     "data": {
      "text/plain": [
       "{'sertraline': 'zoloft',\n",
       " 'fluoxetine': 'prozac',\n",
       " 'etonogestrel': 'nuvaring',\n",
       " 'levonorgestrel': 'mirena',\n",
       " 'levonogestrel': 'mirena',\n",
       " 'alprazolam': 'xanax',\n",
       " 'acetaminophen / oxycodone': 'percocet',\n",
       " 'topiramate': 'topamax',\n",
       " 'denosumab': 'prolia',\n",
       " 'phentermine': 'fastin',\n",
       " 'oxycodone': 'oxycontin',\n",
       " 'citalopram': 'celexa',\n",
       " 'busiprone': 'buspar',\n",
       " 'locasserin': 'belviq',\n",
       " 'vilazodone': 'viibryd',\n",
       " 'gabapentin': 'neurontin',\n",
       " 'clomiphene': 'clomid',\n",
       " 'desvenlafaxine': 'pristiq',\n",
       " 'escitalopram': 'lexapro',\n",
       " 'paroxetine': 'paxil',\n",
       " 'duloxetine': 'cymbalta',\n",
       " 'deplin': 'l-methylfolate',\n",
       " 'methocarbamol': 'robaxin-750',\n",
       " 'orlistat': 'xenical',\n",
       " 'bupropion': 'wellbutrin xl',\n",
       " 'lamotrigine': 'lamictal',\n",
       " 'buprenorphine / naloxone': 'suboxone',\n",
       " 'letrozole': 'femara',\n",
       " 'mirtazapine': 'remeron',\n",
       " 'liothyronine': 'cytomel',\n",
       " 'amitriptyline': 'elavil',\n",
       " 'losartan': 'cozaar-750',\n",
       " 'ultram': 'tramadol',\n",
       " 'lisdexamfetamine': 'vyvanse',\n",
       " 'diazepam': 'valium',\n",
       " 'finasteride': 'proscar',\n",
       " 'ethinyl estradiol / etonogestrel': 'etonogestrel',\n",
       " 'amoxicillin': 'amoxil',\n",
       " 'amlodipine': 'norvasc',\n",
       " 'atomoxetine': 'strattera',\n",
       " 'anastrozole': 'arimidex',\n",
       " 'pregabalin': 'lyrica',\n",
       " 'minoxidil': 'finasteride',\n",
       " 'tadalafil': 'cialis',\n",
       " 'estradiol': 'estrace vaginal cream',\n",
       " 'cozaar': 'losartan',\n",
       " 'modafinil': 'provigil',\n",
       " 'nortriptyline': 'pamelor',\n",
       " 'venlafaxine': 'effexor xr',\n",
       " 'pravastatin': 'pravachol',\n",
       " 'levomilnacipran': 'fetzima',\n",
       " 'atorvastatin': 'lipitor',\n",
       " 'alendronate': 'fosamax',\n",
       " 'norco': 'acetaminophen / hydrocodone',\n",
       " 'testosterone': 'androgel',\n",
       " 'medroxyprogesterone': 'provera',\n",
       " 'teriparatide': 'forteo',\n",
       " 'qsymia': 'phentermine / topiramate',\n",
       " 'tizanidine': 'zanaflex',\n",
       " 'aripiprazole': 'abilify',\n",
       " 'morphine': 'ms contin',\n",
       " 'clonazepam': 'klonopin',\n",
       " 'levothyroxine': 'synthroid',\n",
       " 'methylphenidate': 'methylin er',\n",
       " 'pazopanib': 'votrient',\n",
       " 'erlotinib': 'tarceva',\n",
       " 'milnacipran': 'savella',\n",
       " 'thyroid desiccated': 'armour thyroid',\n",
       " 'tretinoin': 'retin-a',\n",
       " 'reclast': 'zoledronic acid',\n",
       " 'ethinyl estradiol / norethindrone': 'loestrin 24 fe',\n",
       " 'rivaroxaban': 'xarelto',\n",
       " 'ethinyl estradiol / norgestimate': 'sprintec',\n",
       " 'donepezil': 'aricept',\n",
       " 'plaquenil': 'hydroxychloroquine',\n",
       " 'valacyclovir': 'valtrex',\n",
       " 'magnesium citrate': 'citrate of magnesia',\n",
       " 'dalfampridine': 'ampyra',\n",
       " 'ambien': 'zolpidem',\n",
       " 'mobic': 'meloxicam',\n",
       " 'clomipramine': 'anafranil',\n",
       " 'quetiapine': 'seroquel',\n",
       " 'ramipril': 'altace',\n",
       " 'adderall': 'adderall xr',\n",
       " 'magnesium sulfate / potassium sulfate / sodium sulfate': 'suprep bowel prep kit'}"
      ]
     },
     "execution_count": 51,
     "metadata": {},
     "output_type": "execute_result"
    }
   ],
   "source": [
    "replaceDict"
   ]
  },
  {
   "cell_type": "code",
   "execution_count": 52,
   "metadata": {},
   "outputs": [
    {
     "data": {
      "text/html": [
       "<div>\n",
       "<style scoped>\n",
       "    .dataframe tbody tr th:only-of-type {\n",
       "        vertical-align: middle;\n",
       "    }\n",
       "\n",
       "    .dataframe tbody tr th {\n",
       "        vertical-align: top;\n",
       "    }\n",
       "\n",
       "    .dataframe thead th {\n",
       "        text-align: right;\n",
       "    }\n",
       "</style>\n",
       "<table border=\"1\" class=\"dataframe\">\n",
       "  <thead>\n",
       "    <tr style=\"text-align: right;\">\n",
       "      <th></th>\n",
       "      <th>clean_condition</th>\n",
       "      <th>drugs</th>\n",
       "      <th>vader_sentiment_score</th>\n",
       "      <th>rating</th>\n",
       "    </tr>\n",
       "  </thead>\n",
       "  <tbody>\n",
       "    <tr>\n",
       "      <th>0</th>\n",
       "      <td>depression</td>\n",
       "      <td>sertraline</td>\n",
       "      <td>0.9772</td>\n",
       "      <td>10</td>\n",
       "    </tr>\n",
       "    <tr>\n",
       "      <th>1</th>\n",
       "      <td>birth control</td>\n",
       "      <td>mirena</td>\n",
       "      <td>0.7739</td>\n",
       "      <td>10</td>\n",
       "    </tr>\n",
       "    <tr>\n",
       "      <th>2</th>\n",
       "      <td>depression</td>\n",
       "      <td>zoloft</td>\n",
       "      <td>-0.6815</td>\n",
       "      <td>9</td>\n",
       "    </tr>\n",
       "    <tr>\n",
       "      <th>3</th>\n",
       "      <td>weight loss</td>\n",
       "      <td>adipex p</td>\n",
       "      <td>0.7921</td>\n",
       "      <td>10</td>\n",
       "    </tr>\n",
       "    <tr>\n",
       "      <th>4</th>\n",
       "      <td>depression</td>\n",
       "      <td>citalopram</td>\n",
       "      <td>-0.7227</td>\n",
       "      <td>8</td>\n",
       "    </tr>\n",
       "  </tbody>\n",
       "</table>\n",
       "</div>"
      ],
      "text/plain": [
       "  clean_condition       drugs  vader_sentiment_score  rating\n",
       "0      depression  sertraline                 0.9772      10\n",
       "1   birth control      mirena                 0.7739      10\n",
       "2      depression      zoloft                -0.6815       9\n",
       "3     weight loss    adipex p                 0.7921      10\n",
       "4      depression  citalopram                -0.7227       8"
      ]
     },
     "execution_count": 52,
     "metadata": {},
     "output_type": "execute_result"
    }
   ],
   "source": [
    "new_df.head(5)"
   ]
  },
  {
   "cell_type": "code",
   "execution_count": 53,
   "metadata": {},
   "outputs": [],
   "source": [
    "new_df =new_df.replace(replaceDict)"
   ]
  },
  {
   "cell_type": "code",
   "execution_count": 54,
   "metadata": {},
   "outputs": [
    {
     "name": "stderr",
     "output_type": "stream",
     "text": [
      "100%|██████████| 835/835 [02:56<00:00,  4.73it/s]\n"
     ]
    }
   ],
   "source": [
    "# The technique bellow was adapted from https://www.kaggle.com/neilash/team-ndl-algorithms-and-illnesses\n",
    "\n",
    "# Make dictionary of conditions, each value will be a dataframe of all of the drugs used to treat the given condition\n",
    "avg_vader_dict = {}\n",
    "\n",
    "# Iterate over conditions\n",
    "for i in tqdm(new_df.clean_condition.unique()):\n",
    "    \n",
    "    temp_ls = []\n",
    "    \n",
    "    # Iterate over drugs within a given condition\n",
    "    for j in new_df[new_df.clean_condition == i].drugs.unique():\n",
    "        \n",
    "        # If there are at least 10 reviews for a drug, save its name and average vader sentiment in temporary list\n",
    "        if np.sum(new_df.drugs == j) >= 10:\n",
    "            temp_ls.append((j, np.sum(new_df[new_df.drugs == j].vader_sentiment_score) / np.sum(new_df.drugs == j)))\n",
    "        \n",
    "    # Save temporary list as a dataframe as a value in help dictionary, sorted best to worst vader scores\n",
    "    avg_vader_dict[i] = pd.DataFrame(data=temp_ls, columns=['drug', 'avg_vader']).sort_values(by='avg_vader', ascending=False).reset_index(drop=True)"
   ]
  },
  {
   "cell_type": "code",
   "execution_count": 55,
   "metadata": {},
   "outputs": [
    {
     "name": "stderr",
     "output_type": "stream",
     "text": [
      "100%|██████████| 835/835 [03:01<00:00,  4.60it/s]\n"
     ]
    }
   ],
   "source": [
    "# Make dictionary of conditions, each value will be a dataframe of all of the drugs used to treat the given condition\n",
    "avg_condition_rating = {}\n",
    "\n",
    "# Iterate over conditions\n",
    "for i in tqdm(new_df.clean_condition.unique()):\n",
    "    \n",
    "    temp_ls_rating = []\n",
    "    \n",
    "    # Iterate over drugs within a given condition\n",
    "    for j in new_df[new_df.clean_condition == i].drugs.unique():\n",
    "        \n",
    "        # If there are at least 10 reviews for a drug, save its name and average vader sentiment in temporary list\n",
    "        if np.sum(new_df.drugs == j) >= 10:\n",
    "            temp_ls_rating.append((j, np.sum(new_df[new_df.drugs == j].rating) / np.sum(new_df.drugs == j)))\n",
    "        \n",
    "    # Save temporary list as a dataframe as a value in help dictionary, sorted best to worst drugs\n",
    "    avg_condition_rating[i] = pd.DataFrame(data=temp_ls_rating, columns=['drug', 'avg_rating']).sort_values(by='avg_rating', ascending=False).reset_index(drop=True)"
   ]
  },
  {
   "cell_type": "code",
   "execution_count": 56,
   "metadata": {},
   "outputs": [
    {
     "name": "stdout",
     "output_type": "stream",
     "text": [
      "['birth control', 'depression', 'pain', 'anxiety', 'acne', 'insomnia', 'bipolar disorder', 'weight loss', 'obesity', 'vaginal yeast infection']\n"
     ]
    }
   ],
   "source": [
    "top10_conditions = list(new_df.clean_condition.value_counts().index[:10])\n",
    "print(top10_conditions)"
   ]
  },
  {
   "cell_type": "code",
   "execution_count": 57,
   "metadata": {},
   "outputs": [
    {
     "name": "stdout",
     "output_type": "stream",
     "text": [
      "sentiment\n",
      "                             drug  avg_vader\n",
      "0                        previfem   0.293500\n",
      "1                         jolessa   0.206957\n",
      "2                      ortho evra   0.130590\n",
      "3                           beyaz   0.104287\n",
      "4                        lo ovral   0.092064\n",
      "5  ethinyl estradiol etonogestrel   0.075442\n",
      "6                     generess fe   0.068730\n",
      "7                      seasonique   0.057829\n",
      "8                         desogen   0.053025\n",
      "9                         nora be   0.051357\n",
      "----------------------------------------\n",
      "rating\n",
      "          drug  avg_rating\n",
      "0       plan b    8.659420\n",
      "1   ortho evra    7.613793\n",
      "2      kyleena    7.391753\n",
      "3       copper    7.381651\n",
      "4        beyaz    7.269841\n",
      "5       mirena    7.236407\n",
      "6        skyla    7.184982\n",
      "7       ocella    7.098039\n",
      "8  generess fe    6.901408\n",
      "9  microgestin    6.882353\n"
     ]
    }
   ],
   "source": [
    "print('sentiment')\n",
    "print(avg_vader_dict['birth control'].iloc[:10]) \n",
    "\n",
    "print(\"-\" *40)\n",
    "\n",
    "print('rating')\n",
    "print(avg_condition_rating['birth control'].iloc[:10]) "
   ]
  },
  {
   "cell_type": "code",
   "execution_count": 58,
   "metadata": {},
   "outputs": [
    {
     "name": "stdout",
     "output_type": "stream",
     "text": [
      "sentiment\n",
      "                    drug  avg_vader\n",
      "0  fluoxetine olanzapine   0.324375\n",
      "1                desyrel   0.299725\n",
      "2            seroquel xr   0.297746\n",
      "3         l-methylfolate   0.232703\n",
      "4            armodafinil   0.219658\n",
      "5                vyvanse   0.208982\n",
      "6               provigil   0.180810\n",
      "7           paliperidone   0.176980\n",
      "8                zyprexa   0.173812\n",
      "9         l methylfolate   0.169636\n",
      "----------------------------------------\n",
      "rating\n",
      "                    drug  avg_rating\n",
      "0                parnate    9.000000\n",
      "1                  xanax    8.926421\n",
      "2            desipramine    8.761905\n",
      "3  fluoxetine olanzapine    8.714286\n",
      "4         st john s wort    8.636364\n",
      "5             nefazodone    8.600000\n",
      "6             selegiline    8.523810\n",
      "7              anafranil    8.386792\n",
      "8             phenelzine    8.380952\n",
      "9                symbyax    8.260870\n"
     ]
    }
   ],
   "source": [
    "print('sentiment')\n",
    "print(avg_vader_dict['depression'].iloc[:10]) \n",
    "\n",
    "print(\"-\" *40)\n",
    "\n",
    "print('rating')\n",
    "print(avg_condition_rating['depression'].iloc[:10]) "
   ]
  },
  {
   "cell_type": "code",
   "execution_count": 59,
   "metadata": {},
   "outputs": [
    {
     "name": "stdout",
     "output_type": "stream",
     "text": [
      "sentiment\n",
      "                             drug  avg_vader\n",
      "0  acetaminophen phenyltoloxamine   0.405225\n",
      "1               methadone diskets   0.369608\n",
      "2                      proctofoam   0.284917\n",
      "3                      ketoprofen   0.171672\n",
      "4                       pramoxine   0.089233\n",
      "5                   acetaminophen   0.084920\n",
      "6   acetaminophen diphenhydramine   0.071525\n",
      "7            trolamine salicylate   0.053579\n",
      "8                        fiorinal   0.052287\n",
      "9                         aspirin   0.035783\n",
      "----------------------------------------\n",
      "rating\n",
      "                             drug  avg_rating\n",
      "0                      ketoprofen    9.555556\n",
      "1  acetaminophen phenyltoloxamine    9.437500\n",
      "2                       pramoxine    9.388889\n",
      "3                         demerol    9.354839\n",
      "4                       methadose    9.000000\n",
      "5                      meperidine    9.000000\n",
      "6               methadone diskets    9.000000\n",
      "7                      proctofoam    9.000000\n",
      "8                      roxicodone    8.965517\n",
      "9                        percocet    8.848485\n"
     ]
    }
   ],
   "source": [
    "print('sentiment')\n",
    "print(avg_vader_dict['pain'].iloc[:10]) \n",
    "\n",
    "print(\"-\" *40)\n",
    "\n",
    "print('rating')\n",
    "print(avg_condition_rating['pain'].iloc[:10]) "
   ]
  },
  {
   "cell_type": "code",
   "execution_count": 60,
   "metadata": {},
   "outputs": [],
   "source": [
    "bigdata.to_csv(\"bigdata_clean.csv\")"
   ]
  }
 ],
 "metadata": {
  "kernelspec": {
   "display_name": "Python 3",
   "language": "python",
   "name": "python3"
  },
  "language_info": {
   "codemirror_mode": {
    "name": "ipython",
    "version": 3
   },
   "file_extension": ".py",
   "mimetype": "text/x-python",
   "name": "python",
   "nbconvert_exporter": "python",
   "pygments_lexer": "ipython3",
   "version": "3.7.2"
  }
 },
 "nbformat": 4,
 "nbformat_minor": 2
}
